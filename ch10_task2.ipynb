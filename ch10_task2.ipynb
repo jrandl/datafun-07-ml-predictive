{
 "cells": [
  {
   "cell_type": "markdown",
   "metadata": {},
   "source": [
    "# Task 2: Chapter 10\n",
    "## Author: Josiah Randleman\n",
    "## Date: 10/4/2023\n",
    "\n",
    "---\n",
    "\n",
    "## Example From 10.12"
   ]
  },
  {
   "cell_type": "code",
   "execution_count": 2,
   "metadata": {},
   "outputs": [
    {
     "name": "stdout",
     "output_type": "stream",
     "text": [
      "Ace\n",
      "Spades\n",
      "Card(face='Ace', suit='Spades')\n",
      "Card(face='Queen', suit='Hearts')\n",
      "<bound method Card._asdict of Card(face='Queen', suit='Hearts')>\n"
     ]
    }
   ],
   "source": [
    "from collections import namedtuple\n",
    "\n",
    "Card = namedtuple('Card', ['face', 'suit'])\n",
    "\n",
    "card = Card(face='Ace', suit='Spades')\n",
    "\n",
    "print(card.face)  \n",
    "print(card.suit) \n",
    "print(card) \n",
    "\n",
    "values = ['Queen', 'Hearts']\n",
    "\n",
    "card = Card._make(values)\n",
    "\n",
    "print(card)\n",
    "\n",
    "print(card._asdict)"
   ]
  },
  {
   "cell_type": "markdown",
   "metadata": {},
   "source": [
    "I chose this example becuse it is useful to have knowledge and experience with named tuples in case you need to take CSV records and you can tokenize the records and can turn them into named tuple objects. \n"
   ]
  },
  {
   "cell_type": "markdown",
   "metadata": {},
   "source": [
    "---"
   ]
  }
 ],
 "metadata": {
  "kernelspec": {
   "display_name": "Python 3",
   "language": "python",
   "name": "python3"
  },
  "language_info": {
   "codemirror_mode": {
    "name": "ipython",
    "version": 3
   },
   "file_extension": ".py",
   "mimetype": "text/x-python",
   "name": "python",
   "nbconvert_exporter": "python",
   "pygments_lexer": "ipython3",
   "version": "3.11.4"
  },
  "orig_nbformat": 4
 },
 "nbformat": 4,
 "nbformat_minor": 2
}
